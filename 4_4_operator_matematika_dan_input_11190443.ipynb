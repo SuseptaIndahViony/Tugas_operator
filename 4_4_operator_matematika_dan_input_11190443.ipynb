{
 "cells": [
  {
   "cell_type": "code",
   "execution_count": null,
   "metadata": {
    "id": "f7WajviOKztl"
   },
   "outputs": [],
   "source": []
  },
  {
   "cell_type": "markdown",
   "metadata": {
    "id": "Zf9uJW37LCfb"
   },
   "source": [
    "**Praktek Operasi Input Dan Operator Matematika**\n",
    "\n",
    "Bukalah kembali praktek operator matematika.\n",
    "\n",
    "Ubahlah agar variable **a** dan **b** menggunakan input dari keyboard\n",
    "\n",
    "\n",
    "Implementasikan code di bawah ini pada kode cell editor:\n",
    "``` javascript\n",
    "selisih = a-b\n",
    "jumlah = a+b\n",
    "kali = a*b\n",
    "bagi = a/b\n",
    "print(\"Hasil penjumlahan dan b adalah\", jumlah)\n",
    "print(\"Selisih a dan b adalah :\",selisih)\n",
    "print(\"Hasil perkalian a dan b adalah :\",kali)\n",
    "print(\"Hasil  pembagian a dan b adalah:\",bagi)\n",
    "\n",
    "``` \n",
    " \n",
    "\n",
    "Ketikan pada code cell di bawah ini pada editor:"
   ]
  },
  {
   "cell_type": "code",
   "execution_count": 2,
   "metadata": {
    "id": "hYGfkiKOMo_x"
   },
   "outputs": [
    {
     "name": "stdout",
     "output_type": "stream",
     "text": [
      "Hasil penjumlahan dan b adalah 25\n",
      "Selisih a dan b adalah : -5\n",
      "Hasil perkalian a dan b adalah : 150\n",
      "Hasil  pembagian a dan b adalah: 0.6666666666666666\n"
     ]
    }
   ],
   "source": [
    "selisih = 10-15\n",
    "jumlah = 10+15\n",
    "kali = 10*15\n",
    "bagi = 10/15\n",
    "print(\"Hasil penjumlahan dan b adalah\", jumlah)\n",
    "print(\"Selisih a dan b adalah :\",selisih)\n",
    "print(\"Hasil perkalian a dan b adalah :\",kali)\n",
    "print(\"Hasil  pembagian a dan b adalah:\",bagi)\n"
   ]
  }
 ],
 "metadata": {
  "colab": {
   "collapsed_sections": [],
   "name": "4.4_operator_matematika_dan_input.ipynb",
   "provenance": []
  },
  "kernelspec": {
   "display_name": "Python 3",
   "language": "python",
   "name": "python3"
  },
  "language_info": {
   "codemirror_mode": {
    "name": "ipython",
    "version": 3
   },
   "file_extension": ".py",
   "mimetype": "text/x-python",
   "name": "python",
   "nbconvert_exporter": "python",
   "pygments_lexer": "ipython3",
   "version": "3.7.4"
  }
 },
 "nbformat": 4,
 "nbformat_minor": 1
}
